{
 "cells": [
  {
   "cell_type": "code",
   "execution_count": 2,
   "metadata": {},
   "outputs": [
    {
     "data": {
      "text/html": [
       "\n",
       "<style>\n",
       "    div#notebook-container    { width: 95%; }\n",
       "    div#menubar-container     { width: 65%; }\n",
       "    div#maintoolbar-container { width: 99%; }\n",
       "</style>\n"
      ],
      "text/plain": [
       "<IPython.core.display.HTML object>"
      ]
     },
     "metadata": {},
     "output_type": "display_data"
    }
   ],
   "source": [
    "%matplotlib inline\n",
    "import numpy as np\n",
    "import cv2 as cv\n",
    "from matplotlib import pyplot as plt\n",
    "\n",
    "%load_ext autoreload\n",
    "%autoreload 2\n",
    "\n",
    "# Display entire width of browser\n",
    "from IPython.display import display, HTML\n",
    "display(HTML(data=\"\"\"\n",
    "<style>\n",
    "    div#notebook-container    { width: 95%; }\n",
    "    div#menubar-container     { width: 65%; }\n",
    "    div#maintoolbar-container { width: 99%; }\n",
    "</style>\n",
    "\"\"\"))"
   ]
  },
  {
   "cell_type": "code",
   "execution_count": 3,
   "metadata": {},
   "outputs": [],
   "source": [
    "def plotTwo(img1, img2):\n",
    "    imPlot1 = img1[:,:,::-1]\n",
    "    imPlot2 = img2[:,:,::-1]\n",
    "\n",
    "    width, height = imPlot1.shape[:2]\n",
    "\n",
    "    fig = plt.figure(figsize=(width/10, height/0))\n",
    "\n",
    "    columns = 2\n",
    "    rows = 1\n",
    "\n",
    "    fig.add_subplot(rows, columns, 1)\n",
    "    plt.imshow(imPlot1)\n",
    "\n",
    "    fig.add_subplot(rows, columns, 2)\n",
    "    plt.imshow(imPlot2)\n",
    "    \n",
    "    plt.show()"
   ]
  },
  {
   "cell_type": "code",
   "execution_count": null,
   "metadata": {},
   "outputs": [],
   "source": [
    "imLights = cv.imread('../images/video-x/frame24.jpg')\n",
    "imNoLights = cv.imread('../images/video-x/frame25.jpg')\n",
    "\n",
    "imLights2 = imLights.copy()\n",
    "imNoLights2 = imNoLights.copy()\n",
    "\n",
    "plotTwo(imLights, imNoLights)"
   ]
  },
  {
   "cell_type": "code",
   "execution_count": null,
   "metadata": {},
   "outputs": [],
   "source": [
    "def drawContours(img):\n",
    "    imgray = cv.cvtColor(img, cv.COLOR_BGR2GRAY)\n",
    "    ret, thresh = cv.threshold(imgray, 127, 255, 0)\n",
    "    contours, hierarchy = cv.findContours(thresh, cv.RETR_TREE, cv.CHAIN_APPROX_SIMPLE)\n",
    "    cont = cv.drawContours(img, contours, -1, (0,255,0), 3)"
   ]
  },
  {
   "cell_type": "code",
   "execution_count": null,
   "metadata": {},
   "outputs": [],
   "source": [
    "inverted1 = (255-imLights)\n",
    "inverted2 = (255-imNoLights)\n",
    "\n",
    "plotTwo(inverted1, inverted2)"
   ]
  },
  {
   "cell_type": "code",
   "execution_count": null,
   "metadata": {},
   "outputs": [],
   "source": [
    "drawContours(inverted1)\n",
    "drawContours(inverted2)\n",
    "\n",
    "plotTwo(inverted1, inverted2)"
   ]
  },
  {
   "cell_type": "code",
   "execution_count": null,
   "metadata": {},
   "outputs": [],
   "source": [
    "inverted1[np.where((inverted1 > [127,127,127]).all(axis = 2))] = [0,0,0]\n",
    "inverted2[np.where((inverted2 > [127,127,127]).all(axis = 2))] = [0,0,0]\n",
    "plotTwo(inverted1, inverted2)"
   ]
  },
  {
   "cell_type": "code",
   "execution_count": null,
   "metadata": {},
   "outputs": [],
   "source": [
    "w = 96\n",
    "h = 96\n",
    "img1 = cv.resize(imLights,(w,h))\n",
    "img2 = cv.resize(imNoLights,(w,h))\n",
    "plotTwo(img1, img2)"
   ]
  },
  {
   "cell_type": "code",
   "execution_count": null,
   "metadata": {},
   "outputs": [],
   "source": [
    "invertedSmall1 = (255-img1)\n",
    "invertedsmall2 = (255-img2)\n",
    "\n",
    "plotTwo(invertedSmall1, invertedsmall2)"
   ]
  },
  {
   "cell_type": "code",
   "execution_count": null,
   "metadata": {},
   "outputs": [],
   "source": []
  }
 ],
 "metadata": {
  "kernelspec": {
   "display_name": "Python 3",
   "language": "python",
   "name": "python3"
  },
  "language_info": {
   "codemirror_mode": {
    "name": "ipython",
    "version": 3
   },
   "file_extension": ".py",
   "mimetype": "text/x-python",
   "name": "python",
   "nbconvert_exporter": "python",
   "pygments_lexer": "ipython3",
   "version": "3.7.1"
  }
 },
 "nbformat": 4,
 "nbformat_minor": 2
}

{
 "cells": [
  {
   "cell_type": "code",
   "execution_count": null,
   "metadata": {},
   "outputs": [],
   "source": [
    "%load_ext autoreload\n",
    "%autoreload 2"
   ]
  },
  {
   "cell_type": "code",
   "execution_count": null,
   "metadata": {},
   "outputs": [],
   "source": [
    "%matplotlib inline\n",
    "import numpy as np\n",
    "import cv2 as cv\n",
    "from matplotlib import pyplot as plt\n",
    "from random import shuffle\n",
    "from tqdm import tqdm\n",
    "import os\n",
    "\n",
    "# Display entire width of browser\n",
    "from IPython.display import display, HTML\n",
    "display(HTML(data=\"\"\"\n",
    "<style>\n",
    "    div#notebook-container    { width: 95%; }\n",
    "    div#menubar-container     { width: 65%; }\n",
    "    div#maintoolbar-container { width: 99%; }\n",
    "</style>\n",
    "\"\"\"))"
   ]
  },
  {
   "cell_type": "code",
   "execution_count": null,
   "metadata": {},
   "outputs": [],
   "source": [
    "def extractImages(pathIn, pathOut):\n",
    "    count = 0\n",
    "    vidcap = cv.VideoCapture(pathIn)\n",
    "    success,image = vidcap.read()\n",
    "    success = True\n",
    "    while success:\n",
    "      vidcap.set(cv.CAP_PROP_POS_MSEC,(count*1000))    # added this line \n",
    "      success,image = vidcap.read()\n",
    "      print('Read a new frame: ', success)     \n",
    "      cv.imwrite( pathOut + \"/frame%d.jpg\" % count, image)     # save frame as JPEG file\n",
    "      count = count + 1"
   ]
  },
  {
   "cell_type": "code",
   "execution_count": null,
   "metadata": {},
   "outputs": [],
   "source": [
    "w = 96\n",
    "h = 96"
   ]
  },
  {
   "cell_type": "code",
   "execution_count": null,
   "metadata": {},
   "outputs": [],
   "source": [
    "def list_dir(path):\n",
    "    fileNames = []\n",
    "    for root, dirs, files in os.walk(path):  \n",
    "        for filename in files: \n",
    "            fileNames.append(filename)            \n",
    "    return fileNames"
   ]
  },
  {
   "cell_type": "code",
   "execution_count": 2,
   "metadata": {},
   "outputs": [],
   "source": [
    "def invert(img):\n",
    "    inverted = img[:,:,::-1]\n",
    "    inverted[np.where((inverted > [127,127,127]).all(axis = 2))] = [0,0,0]\n",
    "    return inverted"
   ]
  },
  {
   "cell_type": "code",
   "execution_count": null,
   "metadata": {},
   "outputs": [],
   "source": [
    "files = list_dir('../videos')"
   ]
  },
  {
   "cell_type": "code",
   "execution_count": null,
   "metadata": {},
   "outputs": [],
   "source": [
    "print(files[0])"
   ]
  },
  {
   "cell_type": "code",
   "execution_count": null,
   "metadata": {},
   "outputs": [],
   "source": [
    "def extract(videoRoot, imageRoot):\n",
    "    videos = list_dir(videoRoot)\n",
    "    for video in videos:\n",
    "        videoPath = videoRoot + '/' + video\n",
    "        videoName = video.split('.')[0]\n",
    "        imagePath = imageRoot+'/' +videoName\n",
    "        if not os.path.exists(imagePath):\n",
    "            os.makedirs(imagePath)\n",
    "            extractImages(videoPath,imagePath)        "
   ]
  },
  {
   "cell_type": "code",
   "execution_count": null,
   "metadata": {},
   "outputs": [],
   "source": [
    "extract('../videos', '../images')"
   ]
  },
  {
   "cell_type": "code",
   "execution_count": null,
   "metadata": {},
   "outputs": [],
   "source": [
    "labelsFile = '../labels/labels.csv'\n",
    "def read_labels(lablesFile):\n",
    "    labelData = []\n",
    "    with open(lablesFile) as inf:\n",
    "        for line in tqdm(inf):            \n",
    "            video, frame, label, clazz = line.strip().split(\",\")\n",
    "            frame = int(frame)\n",
    "            label = int(label)\n",
    "            labelData.append({'video':video, 'frame':frame, 'label':label, 'class':clazz})\n",
    "    return labelData\n",
    "\n",
    "labels = read_labels(labelsFile)\n",
    "            "
   ]
  },
  {
   "cell_type": "code",
   "execution_count": null,
   "metadata": {},
   "outputs": [],
   "source": [
    "def get_label(file, labels):    \n",
    "    for l in labels:         \n",
    "        if 'frame' + str(l['frame']) + '.jpg' == file:\n",
    "            if l['class'] == 'Light':                \n",
    "                return np.array([1,0])\n",
    "            else:\n",
    "                return np.array([0,1])\n",
    "    return np.array([1,1])\n",
    "    \n",
    "def train_data_with_label(train_data, labels):\n",
    "    train_images = []    \n",
    "    for i in tqdm(os.listdir(train_data)):        \n",
    "        path = os.path.join(train_data, i)        \n",
    "        img = cv.imread(path)\n",
    "        img = invert(img)\n",
    "        img = cv.resize(img, (w,h))     \n",
    "        label = get_label(i, labels)      \n",
    "        train_images.append([np.array(img),label])              \n",
    "    #shuffle(train_images)\n",
    "    return train_images"
   ]
  },
  {
   "cell_type": "code",
   "execution_count": null,
   "metadata": {},
   "outputs": [],
   "source": [
    "train_data = train_data_with_label('../images/video-1', labels)"
   ]
  },
  {
   "cell_type": "code",
   "execution_count": null,
   "metadata": {},
   "outputs": [],
   "source": [
    "train_data[100]"
   ]
  },
  {
   "cell_type": "code",
   "execution_count": null,
   "metadata": {},
   "outputs": [],
   "source": [
    "from keras.models import Sequential\n",
    "from keras.layers import *\n",
    "from keras.optimizers import *"
   ]
  },
  {
   "cell_type": "code",
   "execution_count": null,
   "metadata": {},
   "outputs": [],
   "source": [
    "test_data = train_data_with_label('../images/video-1', labels)"
   ]
  },
  {
   "cell_type": "code",
   "execution_count": null,
   "metadata": {},
   "outputs": [],
   "source": [
    "tr_img_data = np.array([i[0] for i in train_data]).reshape(-1, w,h,1)\n",
    "tr_lbl_data = np.array([i[1] for i in train_data])\n",
    "\n",
    "tst_img_data = np.array([i[0] for i in test_data]).reshape(-1, w,h,1)\n",
    "tst_lbl_data = np.array([i[1] for i in test_data])\n"
   ]
  },
  {
   "cell_type": "code",
   "execution_count": null,
   "metadata": {},
   "outputs": [],
   "source": [
    "for i in tr_lbl_data:\n",
    "    print(i)"
   ]
  },
  {
   "cell_type": "code",
   "execution_count": null,
   "metadata": {},
   "outputs": [],
   "source": [
    "model = Sequential()\n",
    "\n",
    "model.add(InputLayer(input_shape=[w,h,1]))\n",
    "model.add(Conv2D(filters=32, kernel_size=5,strides=1,padding='same',activation='relu'))\n",
    "model.add(MaxPool2D(pool_size=5,padding='same'))\n",
    "\n",
    "model.add(Conv2D(filters=50,kernel_size=5,strides=1,padding='same',activation='relu'))\n",
    "model.add(MaxPool2D(pool_size=5,padding='same'))\n",
    "\n",
    "model.add(Conv2D(filters=80,kernel_size=5,strides=1,padding='same',activation='relu'))\n",
    "model.add(MaxPool2D(pool_size=5,padding='same'))\n",
    "\n",
    "model.add(Dropout(0.25))\n",
    "model.add(Flatten())\n",
    "model.add(Dense(512, activation='relu'))\n",
    "model.add(Dropout(rate=0.5))\n",
    "model.add(Dense(2,activation='softmax'))\n",
    "optimizer = Adam(lr=1e-3)\n",
    "\n",
    "model.compile(optimizer=optimizer, loss='categorical_crossentropy',metrics=['accuracy'])\n",
    "model.fit(x=tr_img_data,y=tr_lbl_data,epochs=50,batch_size=10)\n",
    "model.summary()"
   ]
  },
  {
   "cell_type": "code",
   "execution_count": null,
   "metadata": {},
   "outputs": [],
   "source": [
    "    test_img = train_data[135][0]\n",
    "    predict_data = test_img.reshape(-1,w,h,1)\n",
    "    model_out = model.predict([predict_data])\n",
    "    print(model_out)"
   ]
  },
  {
   "cell_type": "code",
   "execution_count": null,
   "metadata": {},
   "outputs": [],
   "source": [
    "fig =plt.figure(figsize=(14,14))\n",
    "plot_cols = 5\n",
    "plot_rows = len(train_data)/plot_cols\n",
    "for cnt, data in enumerate(train_data[:]):\n",
    "    y = fig.add_subplot(plot_rows,plot_cols, cnt+1)\n",
    "    img = data[0]\n",
    "    data = img.reshape(1,w,h,1)\n",
    "    model_out = model.predict([data])\n",
    "    \n",
    "    if np.argmax(model_out) == 1:\n",
    "        str_label = 'No Lights'\n",
    "    else:\n",
    "        str_label = 'Lights'\n",
    "        \n",
    "    y.imshow(img, cmap='gray')\n",
    "    plt.title(str_label)\n",
    "    y.axes.get_xaxis().set_visible(False)\n",
    "    y.axes.get_yaxis().set_visible(False)    "
   ]
  },
  {
   "cell_type": "code",
   "execution_count": null,
   "metadata": {},
   "outputs": [],
   "source": []
  }
 ],
 "metadata": {
  "kernelspec": {
   "display_name": "tensorflow",
   "language": "python",
   "name": "tensorflow"
  },
  "language_info": {
   "codemirror_mode": {
    "name": "ipython",
    "version": 3
   },
   "file_extension": ".py",
   "mimetype": "text/x-python",
   "name": "python",
   "nbconvert_exporter": "python",
   "pygments_lexer": "ipython3",
   "version": "3.7.1"
  }
 },
 "nbformat": 4,
 "nbformat_minor": 2
}

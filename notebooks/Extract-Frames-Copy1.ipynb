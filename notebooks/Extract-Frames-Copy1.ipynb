{
 "cells": [
  {
   "cell_type": "code",
   "execution_count": 1,
   "metadata": {},
   "outputs": [],
   "source": [
    "%load_ext autoreload\n",
    "%autoreload 2"
   ]
  },
  {
   "cell_type": "code",
   "execution_count": 2,
   "metadata": {},
   "outputs": [
    {
     "data": {
      "text/html": [
       "\n",
       "<style>\n",
       "    div#notebook-container    { width: 95%; }\n",
       "    div#menubar-container     { width: 65%; }\n",
       "    div#maintoolbar-container { width: 99%; }\n",
       "</style>\n"
      ],
      "text/plain": [
       "<IPython.core.display.HTML object>"
      ]
     },
     "metadata": {},
     "output_type": "display_data"
    }
   ],
   "source": [
    "%matplotlib inline\n",
    "import numpy as np\n",
    "import cv2 as cv\n",
    "from matplotlib import pyplot as plt\n",
    "from random import shuffle\n",
    "from tqdm import tqdm\n",
    "import os\n",
    "\n",
    "# Display entire width of browser\n",
    "from IPython.display import display, HTML\n",
    "display(HTML(data=\"\"\"\n",
    "<style>\n",
    "    div#notebook-container    { width: 95%; }\n",
    "    div#menubar-container     { width: 65%; }\n",
    "    div#maintoolbar-container { width: 99%; }\n",
    "</style>\n",
    "\"\"\"))"
   ]
  },
  {
   "cell_type": "code",
   "execution_count": 3,
   "metadata": {},
   "outputs": [],
   "source": [
    "def extractImages(pathIn, pathOut):\n",
    "    count = 0\n",
    "    vidcap = cv.VideoCapture(pathIn)\n",
    "    success,image = vidcap.read()\n",
    "    success = True\n",
    "    while tqdm(success):\n",
    "      vidcap.set(cv.CAP_PROP_POS_MSEC,(count*1000))    # added this line \n",
    "      success,image = vidcap.read()         \n",
    "      cv.imwrite( pathOut + \"/frame%d.jpg\" % count, image)     # save frame as JPEG file\n",
    "      count = count + 1"
   ]
  },
  {
   "cell_type": "code",
   "execution_count": 4,
   "metadata": {},
   "outputs": [],
   "source": [
    "w = 96\n",
    "h = 96"
   ]
  },
  {
   "cell_type": "code",
   "execution_count": 5,
   "metadata": {},
   "outputs": [],
   "source": [
    "def list_dir(path):\n",
    "    fileNames = []\n",
    "    for root, dirs, files in os.walk(path):  \n",
    "        for filename in tqdm(files): \n",
    "            fileNames.append(filename)            \n",
    "    return fileNames"
   ]
  },
  {
   "cell_type": "code",
   "execution_count": 6,
   "metadata": {},
   "outputs": [
    {
     "name": "stderr",
     "output_type": "stream",
     "text": [
      "100%|██████████████████████████████████████████████████████████████████████████████████████████████████████████████████████████████████████| 6/6 [00:00<?, ?it/s]\n"
     ]
    }
   ],
   "source": [
    "files = list_dir('../videos')"
   ]
  },
  {
   "cell_type": "code",
   "execution_count": 7,
   "metadata": {},
   "outputs": [
    {
     "name": "stdout",
     "output_type": "stream",
     "text": [
      "video-1.mp4\n"
     ]
    }
   ],
   "source": [
    "print(files[0])"
   ]
  },
  {
   "cell_type": "code",
   "execution_count": 8,
   "metadata": {},
   "outputs": [],
   "source": [
    "def extract(videoRoot, imageRoot):\n",
    "    videos = list_dir(videoRoot)\n",
    "    for video in tqdm(videos):\n",
    "        videoPath = videoRoot + '/' + video\n",
    "        videoName = video.split('.')[0]\n",
    "        imagePath = imageRoot+'/' +videoName\n",
    "        if not os.path.exists(imagePath):\n",
    "            os.makedirs(imagePath)\n",
    "            extractImages(videoPath,imagePath)        "
   ]
  },
  {
   "cell_type": "code",
   "execution_count": 9,
   "metadata": {},
   "outputs": [
    {
     "name": "stderr",
     "output_type": "stream",
     "text": [
      "100%|██████████████████████████████████████████████████████████████████████████████████████████████████████████████████████████████████████| 6/6 [00:00<?, ?it/s]\n",
      "100%|████████████████████████████████████████████████████████████████████████████████████████████████████████████████████████████| 6/6 [00:00<00:00, 5991.86it/s]\n"
     ]
    }
   ],
   "source": [
    "extract('../videos', '../images')"
   ]
  },
  {
   "cell_type": "code",
   "execution_count": 43,
   "metadata": {},
   "outputs": [
    {
     "name": "stderr",
     "output_type": "stream",
     "text": [
      "264it [00:00, 263391.12it/s]\n",
      "330it [00:00, 165011.96it/s]\n"
     ]
    }
   ],
   "source": [
    "\n",
    "def read_labels(lablesFile):\n",
    "    labelData = []\n",
    "    with open(lablesFile) as inf:\n",
    "        for line in tqdm(inf):            \n",
    "            video, frame, label, clazz = line.strip().split(\",\")\n",
    "            frame = int(frame)\n",
    "            label = int(label)\n",
    "            labelData.append({'video':video, 'frame':frame, 'label':label, 'class':clazz})\n",
    "    return labelData\n",
    "\n",
    "labels = read_labels('../labels/labels.csv')\n",
    "labels2 = read_labels('../labels/labels2.csv')\n",
    "\n",
    "            "
   ]
  },
  {
   "cell_type": "code",
   "execution_count": 33,
   "metadata": {},
   "outputs": [],
   "source": [
    "def pre_process(img):\n",
    "    hsv = cv.cvtColor(img, cv.COLOR_BGR2HSV)\n",
    "    lower = np.array([49,89,127])\n",
    "    upper = np.array([179,225,255])\n",
    "    mask = cv.inRange(hsv, lower, upper)\n",
    "    result = cv.bitwise_and(hsv, hsv, mask=mask)\n",
    "    result_gray = cv.cvtColor(result, cv.COLOR_BGR2GRAY)\n",
    "    _, thresh = cv.threshold(result_gray, 7, 255, cv.THRESH_BINARY)\n",
    "    resized = cv.resize(thresh, (96,96))    \n",
    "    #cropped = resized[0:72, 0:96]\n",
    "    return resized"
   ]
  },
  {
   "cell_type": "code",
   "execution_count": 12,
   "metadata": {},
   "outputs": [],
   "source": [
    "def get_label(file, labels):    \n",
    "    for l in labels:         \n",
    "        if 'frame' + str(l['frame']) + '.jpg' == file:\n",
    "            if l['class'] == 'Light':                \n",
    "                return np.array([1,0])\n",
    "            else:\n",
    "                return np.array([0,1])\n",
    "    return np.array([1,1])\n",
    "    \n",
    "def train_data_with_label(train_data, labels):\n",
    "    train_images = []    \n",
    "    for i in tqdm(os.listdir(train_data)):        \n",
    "        path = os.path.join(train_data, i)        \n",
    "        img = cv.imread(path)\n",
    "        img = pre_process(img)     \n",
    "        label = get_label(i, labels)      \n",
    "        train_images.append([np.array(img),label])              \n",
    "    #shuffle(train_images)\n",
    "    return train_images"
   ]
  },
  {
   "cell_type": "code",
   "execution_count": 34,
   "metadata": {},
   "outputs": [
    {
     "name": "stdout",
     "output_type": "stream",
     "text": [
      "(96, 96)\n",
      "(96, 96)\n"
     ]
    },
    {
     "data": {
      "image/png": "[encoded data removed]",
      "text/plain": [
       "<Figure size 432x288 with 1 Axes>"
      ]
     },
     "metadata": {
      "needs_background": "light"
     },
     "output_type": "display_data"
    }
   ],
   "source": [
    "varimg_gray = cv.imread('../images/video-x/frame24.jpg', cv.IMREAD_GRAYSCALE)\n",
    "varimg_gray = cv.resize(varimg_gray, (w,h)) \n",
    "varimg = cv.imread('../images/video-x/frame24.jpg')\n",
    "\n",
    "processed = pre_process(varimg)\n",
    "plt.imshow(processed, cmap='gray')\n",
    "print(varimg_gray.shape)\n",
    "print(processed.shape)"
   ]
  },
  {
   "cell_type": "code",
   "execution_count": 35,
   "metadata": {},
   "outputs": [
    {
     "name": "stderr",
     "output_type": "stream",
     "text": [
      "100%|████████████████████████████████████████████████████████████████████████████████████████████████████████████████████████████| 31/31 [00:01<00:00, 30.48it/s]\n"
     ]
    }
   ],
   "source": [
    "train_data = train_data_with_label('../images/video-2', labels)"
   ]
  },
  {
   "cell_type": "code",
   "execution_count": 23,
   "metadata": {},
   "outputs": [
    {
     "data": {
      "text/plain": [
       "31"
      ]
     },
     "execution_count": 23,
     "metadata": {},
     "output_type": "execute_result"
    }
   ],
   "source": [
    "len(train_data)"
   ]
  },
  {
   "cell_type": "code",
   "execution_count": 24,
   "metadata": {},
   "outputs": [
    {
     "name": "stderr",
     "output_type": "stream",
     "text": [
      "Using TensorFlow backend.\n"
     ]
    }
   ],
   "source": [
    "from keras.models import Sequential\n",
    "from keras.layers import *\n",
    "from keras.optimizers import *"
   ]
  },
  {
   "cell_type": "code",
   "execution_count": 44,
   "metadata": {},
   "outputs": [
    {
     "name": "stderr",
     "output_type": "stream",
     "text": [
      "100%|██████████████████████████████████████████████████████████████████████████████████████████████████████████████████████████| 265/265 [00:08<00:00, 30.89it/s]\n"
     ]
    }
   ],
   "source": [
    "test_data = train_data_with_label('../images/video-1', labels2)"
   ]
  },
  {
   "cell_type": "code",
   "execution_count": 45,
   "metadata": {},
   "outputs": [],
   "source": [
    "tr_img_data = np.array([i[0] for i in train_data]).reshape(-1, w,h,1)\n",
    "tr_lbl_data = np.array([i[1] for i in train_data])\n",
    "\n",
    "tst_img_data = np.array([i[0] for i in test_data]).reshape(-1, w,h,1)\n",
    "tst_lbl_data = np.array([i[1] for i in test_data])\n"
   ]
  },
  {
   "cell_type": "code",
   "execution_count": 38,
   "metadata": {},
   "outputs": [
    {
     "name": "stdout",
     "output_type": "stream",
     "text": [
      "Epoch 1/50\n",
      "31/31 [==============================] - ETA: 1s - loss: 0.7496 - acc: 0.200 - ETA: 0s - loss: 0.9635 - acc: 0.400 - ETA: 0s - loss: 0.8274 - acc: 0.566 - 1s 31ms/step - loss: 0.8226 - acc: 0.5806\n",
      "Epoch 2/50\n",
      "31/31 [==============================] - ETA: 0s - loss: 0.6391 - acc: 0.800 - ETA: 0s - loss: 0.7028 - acc: 0.850 - ETA: 0s - loss: 0.7492 - acc: 0.766 - 0s 13ms/step - loss: 0.9449 - acc: 0.7419\n",
      "Epoch 3/50\n",
      "31/31 [==============================] - ETA: 0s - loss: 0.9619 - acc: 0.800 - ETA: 0s - loss: 0.8103 - acc: 0.700 - ETA: 0s - loss: 0.7201 - acc: 0.766 - 0s 14ms/step - loss: 0.7191 - acc: 0.7742\n",
      "Epoch 4/50\n",
      "31/31 [==============================] - ETA: 0s - loss: 1.8033 - acc: 0.900 - ETA: 0s - loss: 1.1340 - acc: 0.850 - ETA: 0s - loss: 0.9520 - acc: 0.833 - 0s 13ms/step - loss: 0.9406 - acc: 0.8387\n",
      "Epoch 5/50\n",
      "31/31 [==============================] - ETA: 0s - loss: 0.5774 - acc: 0.800 - ETA: 0s - loss: 0.6701 - acc: 0.800 - ETA: 0s - loss: 0.6047 - acc: 0.766 - 0s 13ms/step - loss: 0.6040 - acc: 0.7742\n",
      "Epoch 6/50\n",
      "31/31 [==============================] - ETA: 0s - loss: 0.4596 - acc: 0.800 - ETA: 0s - loss: 0.7138 - acc: 0.800 - ETA: 0s - loss: 0.7438 - acc: 0.766 - 0s 14ms/step - loss: 0.7199 - acc: 0.7742\n",
      "Epoch 7/50\n",
      "31/31 [==============================] - ETA: 0s - loss: 0.4889 - acc: 0.900 - ETA: 0s - loss: 0.5879 - acc: 0.850 - ETA: 0s - loss: 0.5858 - acc: 0.800 - 0s 13ms/step - loss: 0.5847 - acc: 0.8065\n",
      "Epoch 8/50\n",
      "31/31 [==============================] - ETA: 0s - loss: 0.4355 - acc: 1.000 - ETA: 0s - loss: 0.7608 - acc: 0.900 - ETA: 0s - loss: 0.7032 - acc: 0.800 - 0s 14ms/step - loss: 0.6969 - acc: 0.8065\n",
      "Epoch 9/50\n",
      "31/31 [==============================] - ETA: 0s - loss: 0.4380 - acc: 0.900 - ETA: 0s - loss: 0.4948 - acc: 0.800 - ETA: 0s - loss: 0.5717 - acc: 0.800 - 0s 13ms/step - loss: 0.5557 - acc: 0.8065\n",
      "Epoch 10/50\n",
      "31/31 [==============================] - ETA: 0s - loss: 0.3584 - acc: 1.000 - ETA: 0s - loss: 0.4286 - acc: 0.900 - ETA: 0s - loss: 0.4754 - acc: 0.833 - 0s 14ms/step - loss: 0.4601 - acc: 0.8387\n",
      "Epoch 11/50\n",
      "31/31 [==============================] - ETA: 0s - loss: 0.3617 - acc: 0.900 - ETA: 0s - loss: 0.3923 - acc: 0.850 - ETA: 0s - loss: 0.4245 - acc: 0.866 - 0s 13ms/step - loss: 0.4213 - acc: 0.8710\n",
      "Epoch 12/50\n",
      "31/31 [==============================] - ETA: 0s - loss: 0.2731 - acc: 1.000 - ETA: 0s - loss: 0.3879 - acc: 0.900 - ETA: 0s - loss: 0.4874 - acc: 0.833 - 0s 15ms/step - loss: 0.4716 - acc: 0.8387\n",
      "Epoch 13/50\n",
      "31/31 [==============================] - ETA: 0s - loss: 1.7964 - acc: 0.800 - ETA: 0s - loss: 1.0584 - acc: 0.850 - ETA: 0s - loss: 0.8680 - acc: 0.833 - 0s 15ms/step - loss: 0.8500 - acc: 0.8387\n",
      "Epoch 14/50\n",
      "31/31 [==============================] - ETA: 0s - loss: 0.5286 - acc: 0.800 - ETA: 0s - loss: 0.4102 - acc: 0.850 - ETA: 0s - loss: 0.4106 - acc: 0.866 - 0s 15ms/step - loss: 0.4081 - acc: 0.8710\n",
      "Epoch 15/50\n",
      "31/31 [==============================] - ETA: 0s - loss: 0.5904 - acc: 0.700 - ETA: 0s - loss: 0.4866 - acc: 0.800 - ETA: 0s - loss: 0.3892 - acc: 0.866 - 0s 14ms/step - loss: 0.3767 - acc: 0.8710\n",
      "Epoch 16/50\n",
      "31/31 [==============================] - ETA: 0s - loss: 0.3487 - acc: 0.900 - ETA: 0s - loss: 0.4291 - acc: 0.800 - ETA: 0s - loss: 0.3860 - acc: 0.833 - 0s 15ms/step - loss: 0.3802 - acc: 0.8387\n",
      "Epoch 17/50\n",
      "31/31 [==============================] - ETA: 0s - loss: 0.3231 - acc: 0.900 - ETA: 0s - loss: 0.3776 - acc: 0.850 - ETA: 0s - loss: 0.3053 - acc: 0.900 - 0s 14ms/step - loss: 0.3535 - acc: 0.8710\n",
      "Epoch 18/50\n",
      "31/31 [==============================] - ETA: 0s - loss: 0.6579 - acc: 0.700 - ETA: 0s - loss: 0.7252 - acc: 0.800 - ETA: 0s - loss: 0.5900 - acc: 0.833 - 0s 15ms/step - loss: 0.5752 - acc: 0.8387\n",
      "Epoch 19/50\n",
      "31/31 [==============================] - ETA: 0s - loss: 0.1480 - acc: 1.000 - ETA: 0s - loss: 0.5222 - acc: 0.850 - ETA: 0s - loss: 0.5147 - acc: 0.833 - 0s 15ms/step - loss: 0.5520 - acc: 0.8065\n",
      "Epoch 20/50\n",
      "31/31 [==============================] - ETA: 0s - loss: 0.4821 - acc: 0.800 - ETA: 0s - loss: 0.3874 - acc: 0.850 - ETA: 0s - loss: 0.3743 - acc: 0.866 - 0s 14ms/step - loss: 0.3622 - acc: 0.8710\n",
      "Epoch 21/50\n",
      "31/31 [==============================] - ETA: 0s - loss: 0.4081 - acc: 0.800 - ETA: 0s - loss: 0.3687 - acc: 0.850 - ETA: 0s - loss: 0.3732 - acc: 0.866 - 0s 15ms/step - loss: 0.3721 - acc: 0.8710\n",
      "Epoch 22/50\n",
      "31/31 [==============================] - ETA: 0s - loss: 0.3317 - acc: 0.900 - ETA: 0s - loss: 0.3958 - acc: 0.850 - ETA: 0s - loss: 0.3648 - acc: 0.866 - 0s 14ms/step - loss: 0.3616 - acc: 0.8710\n",
      "Epoch 23/50\n",
      "31/31 [==============================] - ETA: 0s - loss: 0.4144 - acc: 0.800 - ETA: 0s - loss: 0.4273 - acc: 0.800 - ETA: 0s - loss: 0.3664 - acc: 0.866 - 0s 14ms/step - loss: 0.3546 - acc: 0.8710\n",
      "Epoch 24/50\n",
      "31/31 [==============================] - ETA: 0s - loss: 0.4268 - acc: 0.800 - ETA: 0s - loss: 0.3746 - acc: 0.850 - ETA: 0s - loss: 0.3683 - acc: 0.866 - 0s 15ms/step - loss: 0.3641 - acc: 0.8710\n",
      "Epoch 25/50\n",
      "31/31 [==============================] - ETA: 0s - loss: 0.2866 - acc: 0.900 - ETA: 0s - loss: 0.3608 - acc: 0.850 - ETA: 0s - loss: 0.3535 - acc: 0.866 - 0s 14ms/step - loss: 0.3509 - acc: 0.8710\n",
      "Epoch 26/50\n",
      "31/31 [==============================] - ETA: 0s - loss: 0.4772 - acc: 0.800 - ETA: 0s - loss: 0.4111 - acc: 0.850 - ETA: 0s - loss: 0.3693 - acc: 0.866 - 0s 15ms/step - loss: 0.3643 - acc: 0.8710\n",
      "Epoch 27/50\n",
      "31/31 [==============================] - ETA: 0s - loss: 0.1521 - acc: 1.000 - ETA: 0s - loss: 0.2629 - acc: 0.950 - ETA: 0s - loss: 0.3469 - acc: 0.900 - 0s 14ms/step - loss: 0.3887 - acc: 0.8710\n",
      "Epoch 28/50\n",
      "31/31 [==============================] - ETA: 0s - loss: 0.2914 - acc: 0.900 - ETA: 0s - loss: 0.2773 - acc: 0.900 - ETA: 0s - loss: 0.3006 - acc: 0.900 - 0s 14ms/step - loss: 0.3401 - acc: 0.8710\n",
      "Epoch 29/50\n",
      "31/31 [==============================] - ETA: 0s - loss: 0.2935 - acc: 0.900 - ETA: 0s - loss: 0.2271 - acc: 0.950 - ETA: 0s - loss: 0.3534 - acc: 0.866 - 0s 14ms/step - loss: 0.3420 - acc: 0.8710\n",
      "Epoch 30/50\n",
      "31/31 [==============================] - ETA: 0s - loss: 0.3535 - acc: 0.900 - ETA: 0s - loss: 0.3918 - acc: 0.850 - ETA: 0s - loss: 0.3705 - acc: 0.866 - 0s 14ms/step - loss: 0.3653 - acc: 0.8710\n",
      "Epoch 31/50\n",
      "31/31 [==============================] - ETA: 0s - loss: 0.1344 - acc: 1.000 - ETA: 0s - loss: 0.3447 - acc: 0.850 - ETA: 0s - loss: 0.3328 - acc: 0.866 - 0s 14ms/step - loss: 0.3323 - acc: 0.8710\n",
      "Epoch 32/50\n",
      "31/31 [==============================] - ETA: 0s - loss: 0.5157 - acc: 0.800 - ETA: 0s - loss: 0.3681 - acc: 0.900 - ETA: 0s - loss: 0.3919 - acc: 0.866 - 0s 16ms/step - loss: 0.3868 - acc: 0.8710\n",
      "Epoch 33/50\n",
      "31/31 [==============================] - ETA: 0s - loss: 0.2347 - acc: 0.900 - ETA: 0s - loss: 0.4290 - acc: 0.800 - ETA: 0s - loss: 0.3466 - acc: 0.866 - 0s 15ms/step - loss: 0.3354 - acc: 0.8710\n",
      "Epoch 34/50\n",
      "31/31 [==============================] - ETA: 0s - loss: 0.4567 - acc: 0.800 - ETA: 0s - loss: 0.4589 - acc: 0.800 - ETA: 0s - loss: 0.3802 - acc: 0.866 - 0s 16ms/step - loss: 0.3679 - acc: 0.8710\n",
      "Epoch 35/50\n",
      "31/31 [==============================] - ETA: 0s - loss: 0.3136 - acc: 0.900 - ETA: 0s - loss: 0.3910 - acc: 0.850 - ETA: 0s - loss: 0.3637 - acc: 0.866 - 0s 15ms/step - loss: 0.3591 - acc: 0.8710\n",
      "Epoch 36/50\n",
      "31/31 [==============================] - ETA: 0s - loss: 0.4461 - acc: 0.800 - ETA: 0s - loss: 0.2994 - acc: 0.900 - ETA: 0s - loss: 0.3471 - acc: 0.866 - 0s 15ms/step - loss: 0.3435 - acc: 0.8710\n",
      "Epoch 37/50\n",
      "31/31 [==============================] - ETA: 0s - loss: 0.4993 - acc: 0.800 - ETA: 0s - loss: 0.4301 - acc: 0.850 - ETA: 0s - loss: 0.3827 - acc: 0.866 - 0s 14ms/step - loss: 0.3737 - acc: 0.8710\n",
      "Epoch 38/50\n",
      "31/31 [==============================] - ETA: 0s - loss: 0.2747 - acc: 0.900 - ETA: 0s - loss: 0.4557 - acc: 0.800 - ETA: 0s - loss: 0.3533 - acc: 0.866 - 0s 13ms/step - loss: 0.3458 - acc: 0.8710\n",
      "Epoch 39/50\n",
      "31/31 [==============================] - ETA: 0s - loss: 0.7018 - acc: 0.700 - ETA: 0s - loss: 0.5074 - acc: 0.800 - ETA: 0s - loss: 0.3764 - acc: 0.866 - 0s 14ms/step - loss: 0.3643 - acc: 0.8710\n",
      "Epoch 40/50\n"
     ]
    },
    {
     "name": "stdout",
     "output_type": "stream",
     "text": [
      "31/31 [==============================] - ETA: 0s - loss: 0.5306 - acc: 0.800 - ETA: 0s - loss: 0.3518 - acc: 0.900 - ETA: 0s - loss: 0.3989 - acc: 0.866 - 0s 13ms/step - loss: 0.3861 - acc: 0.8710\n",
      "Epoch 41/50\n",
      "31/31 [==============================] - ETA: 0s - loss: 0.2848 - acc: 0.900 - ETA: 0s - loss: 0.2211 - acc: 0.950 - ETA: 0s - loss: 0.3627 - acc: 0.866 - 0s 13ms/step - loss: 0.3564 - acc: 0.8710\n",
      "Epoch 42/50\n",
      "31/31 [==============================] - ETA: 0s - loss: 0.2226 - acc: 0.900 - ETA: 0s - loss: 0.1689 - acc: 0.950 - ETA: 0s - loss: 0.3535 - acc: 0.866 - 0s 13ms/step - loss: 0.3490 - acc: 0.8710\n",
      "Epoch 43/50\n",
      "31/31 [==============================] - ETA: 0s - loss: 0.5006 - acc: 0.800 - ETA: 0s - loss: 0.3896 - acc: 0.850 - ETA: 0s - loss: 0.3559 - acc: 0.866 - 0s 13ms/step - loss: 0.3495 - acc: 0.8710\n",
      "Epoch 44/50\n",
      "31/31 [==============================] - ETA: 0s - loss: 0.2727 - acc: 0.900 - ETA: 0s - loss: 0.2926 - acc: 0.900 - ETA: 0s - loss: 0.3572 - acc: 0.866 - 0s 13ms/step - loss: 0.3502 - acc: 0.8710\n",
      "Epoch 45/50\n",
      "31/31 [==============================] - ETA: 0s - loss: 0.5245 - acc: 0.800 - ETA: 0s - loss: 0.3162 - acc: 0.900 - ETA: 0s - loss: 0.3758 - acc: 0.866 - 0s 13ms/step - loss: 0.3636 - acc: 0.8710\n",
      "Epoch 46/50\n",
      "31/31 [==============================] - ETA: 0s - loss: 0.2885 - acc: 0.900 - ETA: 0s - loss: 0.4578 - acc: 0.800 - ETA: 0s - loss: 0.3396 - acc: 0.866 - 0s 14ms/step - loss: 0.3340 - acc: 0.8710\n",
      "Epoch 47/50\n",
      "31/31 [==============================] - ETA: 0s - loss: 0.2889 - acc: 0.900 - ETA: 0s - loss: 0.2922 - acc: 0.900 - ETA: 0s - loss: 0.3645 - acc: 0.866 - 0s 13ms/step - loss: 0.3590 - acc: 0.8710\n",
      "Epoch 48/50\n",
      "31/31 [==============================] - ETA: 0s - loss: 0.3269 - acc: 0.900 - ETA: 0s - loss: 0.3224 - acc: 0.900 - ETA: 0s - loss: 0.3797 - acc: 0.866 - 0s 13ms/step - loss: 0.3711 - acc: 0.8710\n",
      "Epoch 49/50\n",
      "31/31 [==============================] - ETA: 0s - loss: 0.3864 - acc: 0.800 - ETA: 0s - loss: 0.3286 - acc: 0.850 - ETA: 0s - loss: 0.3239 - acc: 0.866 - 0s 13ms/step - loss: 0.3135 - acc: 0.8710\n",
      "Epoch 50/50\n",
      "31/31 [==============================] - ETA: 0s - loss: 0.4781 - acc: 0.800 - ETA: 0s - loss: 0.4722 - acc: 0.800 - ETA: 0s - loss: 0.3450 - acc: 0.866 - 0s 13ms/step - loss: 0.3384 - acc: 0.8710\n",
      "_________________________________________________________________\n",
      "Layer (type)                 Output Shape              Param #   \n",
      "=================================================================\n",
      "conv2d_4 (Conv2D)            (None, 96, 96, 32)        832       \n",
      "_________________________________________________________________\n",
      "max_pooling2d_4 (MaxPooling2 (None, 20, 20, 32)        0         \n",
      "_________________________________________________________________\n",
      "conv2d_5 (Conv2D)            (None, 20, 20, 50)        40050     \n",
      "_________________________________________________________________\n",
      "max_pooling2d_5 (MaxPooling2 (None, 4, 4, 50)          0         \n",
      "_________________________________________________________________\n",
      "conv2d_6 (Conv2D)            (None, 4, 4, 80)          100080    \n",
      "_________________________________________________________________\n",
      "max_pooling2d_6 (MaxPooling2 (None, 1, 1, 80)          0         \n",
      "_________________________________________________________________\n",
      "dropout_3 (Dropout)          (None, 1, 1, 80)          0         \n",
      "_________________________________________________________________\n",
      "flatten_2 (Flatten)          (None, 80)                0         \n",
      "_________________________________________________________________\n",
      "dense_3 (Dense)              (None, 512)               41472     \n",
      "_________________________________________________________________\n",
      "dropout_4 (Dropout)          (None, 512)               0         \n",
      "_________________________________________________________________\n",
      "dense_4 (Dense)              (None, 2)                 1026      \n",
      "=================================================================\n",
      "Total params: 183,460\n",
      "Trainable params: 183,460\n",
      "Non-trainable params: 0\n",
      "_________________________________________________________________\n"
     ]
    }
   ],
   "source": [
    "model = Sequential()\n",
    "\n",
    "model.add(InputLayer(input_shape=[w,h,1]))\n",
    "model.add(Conv2D(filters=32, kernel_size=5,strides=1,padding='same',activation='relu'))\n",
    "model.add(MaxPool2D(pool_size=5,padding='same'))\n",
    "\n",
    "model.add(Conv2D(filters=50,kernel_size=5,strides=1,padding='same',activation='relu'))\n",
    "model.add(MaxPool2D(pool_size=5,padding='same'))\n",
    "\n",
    "model.add(Conv2D(filters=80,kernel_size=5,strides=1,padding='same',activation='relu'))\n",
    "model.add(MaxPool2D(pool_size=5,padding='same'))\n",
    "\n",
    "model.add(Dropout(0.25))\n",
    "model.add(Flatten())\n",
    "model.add(Dense(512, activation='relu'))\n",
    "model.add(Dropout(rate=0.5))\n",
    "model.add(Dense(2,activation='softmax'))\n",
    "optimizer = Adam(lr=1e-3)\n",
    "\n",
    "model.compile(optimizer=optimizer, loss='categorical_crossentropy',metrics=['accuracy'])\n",
    "model.fit(x=tr_img_data,y=tr_lbl_data,epochs=50,batch_size=10)\n",
    "model.summary()"
   ]
  },
  {
   "cell_type": "code",
   "execution_count": 39,
   "metadata": {},
   "outputs": [
    {
     "name": "stdout",
     "output_type": "stream",
     "text": [
      "[[5.3164436e-05 9.9994683e-01]]\n"
     ]
    }
   ],
   "source": [
    "    test_img = train_data[26][0]\n",
    "    predict_data = test_img.reshape(-1,w,h,1)\n",
    "    model_out = model.predict([predict_data])\n",
    "    print(model_out)"
   ]
  },
  {
   "cell_type": "code",
   "execution_count": 41,
   "metadata": {},
   "outputs": [
    {
     "data": {
      "image/png": "[encoded data removed]",
      "text/plain": [
       "<Figure size 1008x1008 with 31 Axes>"
      ]
     },
     "metadata": {
      "needs_background": "light"
     },
     "output_type": "display_data"
    }
   ],
   "source": [
    "fig =plt.figure(figsize=(14,14))\n",
    "plot_cols = 5\n",
    "plot_rows = len(train_data)/plot_cols+1\n",
    "for cnt, data in enumerate(train_data[:]):\n",
    "    y = fig.add_subplot(plot_rows,plot_cols, cnt+1)\n",
    "    img = data[0]\n",
    "    data = img.reshape(1,w,h,1)\n",
    "    model_out = model.predict([data])\n",
    "    \n",
    "    if np.argmax(model_out) == 1:\n",
    "        str_label = 'No Lights'\n",
    "    else:\n",
    "        str_label = 'Lights'\n",
    "        \n",
    "    y.imshow(img, cmap='gray')\n",
    "    plt.title(str_label)\n",
    "    y.axes.get_xaxis().set_visible(False)\n",
    "    y.axes.get_yaxis().set_visible(False)    "
   ]
  },
  {
   "cell_type": "code",
   "execution_count": 46,
   "metadata": {},
   "outputs": [
    {
     "data": {
      "image/png": "[encoded data removed]",
      "text/plain": [
       "<Figure size 1008x1008 with 265 Axes>"
      ]
     },
     "metadata": {
      "needs_background": "light"
     },
     "output_type": "display_data"
    }
   ],
   "source": [
    "fig =plt.figure(figsize=(14,14))\n",
    "plot_cols = 5\n",
    "plot_rows = len(test_data)/plot_cols+1\n",
    "for cnt, data in enumerate(test_data[:]):\n",
    "    y = fig.add_subplot(plot_rows,plot_cols, cnt+1)\n",
    "    img = data[0]\n",
    "    data = img.reshape(1,w,h,1)\n",
    "    model_out = model.predict([data])\n",
    "    \n",
    "    if np.argmax(model_out) == 1:\n",
    "        str_label = 'No Lights'\n",
    "    else:\n",
    "        str_label = 'Lights'\n",
    "        \n",
    "    y.imshow(img, cmap='gray')\n",
    "    plt.title(str_label)\n",
    "    y.axes.get_xaxis().set_visible(False)\n",
    "    y.axes.get_yaxis().set_visible(False)    "
   ]
  },
  {
   "cell_type": "code",
   "execution_count": null,
   "metadata": {},
   "outputs": [],
   "source": []
  }
 ],
 "metadata": {
  "kernelspec": {
   "display_name": "tensorflow",
   "language": "python",
   "name": "tensorflow"
  },
  "language_info": {
   "codemirror_mode": {
    "name": "ipython",
    "version": 3
   },
   "file_extension": ".py",
   "mimetype": "text/x-python",
   "name": "python",
   "nbconvert_exporter": "python",
   "pygments_lexer": "ipython3",
   "version": "3.7.1"
  }
 },
 "nbformat": 4,
 "nbformat_minor": 2
}
